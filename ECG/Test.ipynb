{
 "cells": [
  {
   "cell_type": "code",
   "execution_count": 1,
   "id": "d091c34a-28b3-4c91-9b68-ada9b891875f",
   "metadata": {},
   "outputs": [],
   "source": [
    "import torch\n",
    "from sklearn.metrics import classification_report\n",
    "%run model.ipynb"
   ]
  },
  {
   "cell_type": "code",
   "execution_count": 2,
   "id": "3976dbfa-e2c8-47a0-a728-b0e2c7f2d5c2",
   "metadata": {},
   "outputs": [
    {
     "name": "stderr",
     "output_type": "stream",
     "text": [
      "/tmp/ipykernel_1681796/2750279563.py:1: FutureWarning: You are using `torch.load` with `weights_only=False` (the current default value), which uses the default pickle module implicitly. It is possible to construct malicious pickle data which will execute arbitrary code during unpickling (See https://github.com/pytorch/pytorch/blob/main/SECURITY.md#untrusted-models for more details). In a future release, the default value for `weights_only` will be flipped to `True`. This limits the functions that could be executed during unpickling. Arbitrary objects will no longer be allowed to be loaded via this mode unless they are explicitly allowlisted by the user via `torch.serialization.add_safe_globals`. We recommend you start setting `weights_only=True` for any use case where you don't have full control of the loaded file. Please open an issue on GitHub for any issues related to this experimental feature.\n",
      "  checkpoint = torch.load('checkpoint/incart/checkpoint_best.pt')\n"
     ]
    }
   ],
   "source": [
    "checkpoint = torch.load('checkpoint/incart/checkpoint_best.pt')"
   ]
  },
  {
   "cell_type": "code",
   "execution_count": 3,
   "id": "dac7fc42-fdf6-4669-ba48-03e87c8a5788",
   "metadata": {},
   "outputs": [],
   "source": [
    "configs = checkpoint['configs']\n",
    "hparams = checkpoint['hparams']"
   ]
  },
  {
   "cell_type": "code",
   "execution_count": 4,
   "id": "361f2f4f-968e-4017-b660-a4058d5b880d",
   "metadata": {},
   "outputs": [
    {
     "data": {
      "text/plain": [
       "{'num_epochs': 60,\n",
       " 'batch_size': 128,\n",
       " 'weight_decay': 0.0001,\n",
       " 'learning_rate': 0.001,\n",
       " 'feature_dim': 128}"
      ]
     },
     "execution_count": 4,
     "metadata": {},
     "output_type": "execute_result"
    }
   ],
   "source": [
    "hparams"
   ]
  },
  {
   "cell_type": "code",
   "execution_count": 5,
   "id": "ba6ea27c-3155-4161-aef6-476cb79ac18f",
   "metadata": {},
   "outputs": [],
   "source": [
    "class Configs:\n",
    "    def __init__(self, **entries):\n",
    "        self.__dict__.update(entries)\n",
    "\n",
    "    def __getattr__(self, item):\n",
    "        return getattr(self.__dict__, item)\n",
    "\n",
    "class HParams:\n",
    "    def __init__(self, **entries):\n",
    "        self.__dict__.update(entries)\n",
    "\n",
    "    def __getitem__(self, key):\n",
    "        return getattr(self, key)\n",
    "\n",
    "\n",
    "# 创建Configs和HParams对象\n",
    "configs = Configs(**checkpoint['configs'])\n",
    "hparams = HParams(**checkpoint['hparams'])"
   ]
  },
  {
   "cell_type": "code",
   "execution_count": 6,
   "id": "fc4c36c6-43c6-450b-9322-06d2b9442c39",
   "metadata": {},
   "outputs": [
    {
     "name": "stderr",
     "output_type": "stream",
     "text": [
      "/home/qziedu/anaconda3/lib/python3.12/site-packages/torch/nn/modules/transformer.py:307: UserWarning: enable_nested_tensor is True, but self.use_nested_tensor is False because encoder_layer.self_attn.num_heads is odd\n",
      "  warnings.warn(f\"enable_nested_tensor is True, but self.use_nested_tensor is False because {why_not_sparsity_fast_path}\")\n"
     ]
    }
   ],
   "source": [
    "model = Model(configs,hparams)\n"
   ]
  },
  {
   "cell_type": "code",
   "execution_count": 7,
   "id": "2f9e19ad-f6ae-4d51-8939-a840e4891183",
   "metadata": {},
   "outputs": [
    {
     "data": {
      "text/plain": [
       "<All keys matched successfully>"
      ]
     },
     "execution_count": 7,
     "metadata": {},
     "output_type": "execute_result"
    }
   ],
   "source": [
    "model.load_state_dict(checkpoint['model'])"
   ]
  },
  {
   "cell_type": "code",
   "execution_count": 8,
   "id": "666b73ed-1baa-4fdc-b836-f7a2312a3eec",
   "metadata": {},
   "outputs": [
    {
     "name": "stderr",
     "output_type": "stream",
     "text": [
      "/tmp/ipykernel_1681796/2394429956.py:3: FutureWarning: You are using `torch.load` with `weights_only=False` (the current default value), which uses the default pickle module implicitly. It is possible to construct malicious pickle data which will execute arbitrary code during unpickling (See https://github.com/pytorch/pytorch/blob/main/SECURITY.md#untrusted-models for more details). In a future release, the default value for `weights_only` will be flipped to `True`. This limits the functions that could be executed during unpickling. Arbitrary objects will no longer be allowed to be loaded via this mode unless they are explicitly allowlisted by the user via `torch.serialization.add_safe_globals`. We recommend you start setting `weights_only=True` for any use case where you don't have full control of the loaded file. Please open an issue on GitHub for any issues related to this experimental feature.\n",
      "  test_loader = torch.load(f\"/home/qziedu/test_hsj/main/data/incart/testinno.pt\")\n"
     ]
    }
   ],
   "source": [
    "model.eval()\n",
    "\n",
    "test_loader = torch.load(f\"/home/qziedu/test_hsj/main/data/incart/testinno.pt\")"
   ]
  },
  {
   "cell_type": "code",
   "execution_count": 9,
   "id": "94c5cdac-c272-4f05-a14c-cceabdd4ac02",
   "metadata": {},
   "outputs": [
    {
     "data": {
      "text/plain": [
       "{'samples': tensor([[[-0.0240, -0.0246, -0.0241,  ..., -0.0728, -0.0768, -0.0754]],\n",
       " \n",
       "         [[-0.9528, -0.9340, -0.9473,  ..., -1.0279, -1.0335, -0.9378]],\n",
       " \n",
       "         [[-0.4290, -0.4307, -0.4384,  ..., -0.4737, -0.4783, -0.4801]],\n",
       " \n",
       "         ...,\n",
       " \n",
       "         [[ 0.0888,  0.0855,  0.0846,  ...,  0.1510,  0.1560,  0.1577]],\n",
       " \n",
       "         [[-2.7190, -2.6794, -2.6371,  ..., -2.5338, -2.5300, -2.5252]],\n",
       " \n",
       "         [[-1.0327, -1.0286, -1.0249,  ..., -1.0689, -1.0679, -1.0683]]],\n",
       "        dtype=torch.float64),\n",
       " 'labels': tensor([0, 1, 0,  ..., 1, 1, 1])}"
      ]
     },
     "execution_count": 9,
     "metadata": {},
     "output_type": "execute_result"
    }
   ],
   "source": [
    "test_loader"
   ]
  },
  {
   "cell_type": "code",
   "execution_count": 10,
   "id": "d54a41a0-ef53-4b58-9e94-1ae219d5f44b",
   "metadata": {},
   "outputs": [
    {
     "name": "stdout",
     "output_type": "stream",
     "text": [
      "Accuracy: 99.55%\n"
     ]
    }
   ],
   "source": [
    "device = torch.device(\"cuda:0\" if torch.cuda.is_available() else \"cpu\")\n",
    "\n",
    "# 将模型移动到设备上\n",
    "model.to(device)\n",
    "\n",
    "# 从字典中提取数据和标签\n",
    "samples = test_loader['samples'].to(device=device, dtype=torch.float32)  # 转换为 Float 类型并移动到设备\n",
    "labels = test_loader['labels'].to(device=device,dtype=torch.long)  # 标签通常需要是 Long 类型并移动到设备\n",
    "\n",
    "# 进行预测\n",
    "all_predictions = []\n",
    "all_labels = []\n",
    "batch_size=128\n",
    "with torch.no_grad():\n",
    "    for i in range(0, len(samples), batch_size):\n",
    "        batch_samples = samples[i:i+batch_size].to(device=device, dtype=torch.float32)\n",
    "        batch_labels = labels[i:i+batch_size].to(device=device, dtype=torch.long)\n",
    "        \n",
    "        outputs = model(batch_samples)\n",
    "        max_values, predicted = torch.max(outputs, 1)\n",
    "        \n",
    "        all_predictions.extend(predicted.cpu().numpy())\n",
    "        all_labels.extend(batch_labels.cpu().numpy())\n",
    "\n",
    "# 计算准确率\n",
    "accuracy = sum(p == t for p, t in zip(all_predictions, all_labels)) / len(all_labels)\n",
    "print(f'Accuracy: {accuracy * 100:.2f}%')"
   ]
  },
  {
   "cell_type": "code",
   "execution_count": 11,
   "id": "41d86f7d-b6ab-4503-902a-2403e661ee15",
   "metadata": {},
   "outputs": [
    {
     "name": "stdout",
     "output_type": "stream",
     "text": [
      "Classification Report:\n",
      "              precision    recall  f1-score   support\n",
      "\n",
      "           0     0.9969    0.9980    0.9974     30735\n",
      "           1     0.9859    0.9786    0.9823      4440\n",
      "\n",
      "    accuracy                         0.9955     35175\n",
      "   macro avg     0.9914    0.9883    0.9899     35175\n",
      "weighted avg     0.9955    0.9955    0.9955     35175\n",
      "\n"
     ]
    }
   ],
   "source": [
    "# 生成分类报告\n",
    "report = classification_report(all_labels, all_predictions, target_names=None,digits=4) \n",
    "print(\"Classification Report:\")\n",
    "print(report)"
   ]
  },
  {
   "cell_type": "code",
   "execution_count": null,
   "id": "45209a03-74de-48e4-a5c0-1e46820fba39",
   "metadata": {},
   "outputs": [],
   "source": []
  }
 ],
 "metadata": {
  "kernelspec": {
   "display_name": "Python 3 (ipykernel)",
   "language": "python",
   "name": "python3"
  },
  "language_info": {
   "codemirror_mode": {
    "name": "ipython",
    "version": 3
   },
   "file_extension": ".py",
   "mimetype": "text/x-python",
   "name": "python",
   "nbconvert_exporter": "python",
   "pygments_lexer": "ipython3",
   "version": "3.12.7"
  }
 },
 "nbformat": 4,
 "nbformat_minor": 5
}
